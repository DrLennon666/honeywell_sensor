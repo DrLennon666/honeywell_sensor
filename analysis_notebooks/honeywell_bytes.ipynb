{
  "nbformat": 4,
  "nbformat_minor": 0,
  "metadata": {
    "colab": {
      "provenance": []
    },
    "kernelspec": {
      "name": "python3",
      "display_name": "Python 3"
    },
    "language_info": {
      "name": "python"
    }
  },
  "cells": [
    {
      "cell_type": "code",
      "source": [
        "!pip install crcmod"
      ],
      "metadata": {
        "colab": {
          "base_uri": "https://localhost:8080/"
        },
        "id": "K5Jc9mQGOV0z",
        "outputId": "fa829708-2937-4cea-a195-4d90f8eb28e0"
      },
      "execution_count": null,
      "outputs": [
        {
          "output_type": "stream",
          "name": "stdout",
          "text": [
            "Collecting crcmod\n",
            "  Downloading crcmod-1.7.tar.gz (89 kB)\n",
            "\u001b[?25l     \u001b[90m━━━━━━━━━━━━━━━━━━━━━━━━━━━━━━━━━━━━━━━━\u001b[0m \u001b[32m0.0/89.7 kB\u001b[0m \u001b[31m?\u001b[0m eta \u001b[36m-:--:--\u001b[0m\r\u001b[2K     \u001b[90m━━━━━━━━━━━━━━━━━━━━━━━━━━━━━━━━━━━━━━━━\u001b[0m \u001b[32m89.7/89.7 kB\u001b[0m \u001b[31m2.6 MB/s\u001b[0m eta \u001b[36m0:00:00\u001b[0m\n",
            "\u001b[?25h  Preparing metadata (setup.py) ... \u001b[?25l\u001b[?25hdone\n",
            "Building wheels for collected packages: crcmod\n",
            "  Building wheel for crcmod (setup.py) ... \u001b[?25l\u001b[?25hdone\n",
            "  Created wheel for crcmod: filename=crcmod-1.7-cp310-cp310-linux_x86_64.whl size=31407 sha256=692f7aa9b0c19bcf2a2da15ecb951a9e3f72abc8593ee94f741c6d5a08b58aaa\n",
            "  Stored in directory: /root/.cache/pip/wheels/85/4c/07/72215c529bd59d67e3dac29711d7aba1b692f543c808ba9e86\n",
            "Successfully built crcmod\n",
            "Installing collected packages: crcmod\n",
            "Successfully installed crcmod-1.7\n"
          ]
        }
      ]
    },
    {
      "cell_type": "code",
      "execution_count": null,
      "metadata": {
        "id": "PDa7wNWRMN1B"
      },
      "outputs": [],
      "source": [
        "import os\n",
        "import yaml\n",
        "import datetime\n",
        "import pytz\n",
        "import crcmod.predefined\n",
        "import pandas as pd\n",
        "import numpy as np"
      ]
    },
    {
      "cell_type": "code",
      "source": [
        "def read_bit_file(path, file_name):\n",
        "  '''\n",
        "  Utility function to read Honeywell bitstreams.\n",
        "  '''\n",
        "  temp_array = []\n",
        "  with open(path+file_name, \"rb\") as file:\n",
        "    for line in file:\n",
        "      decode_line = line.decode().strip()\n",
        "      if len(decode_line)==64:\n",
        "        temp_array.append(decode_line)\n",
        "    return temp_array, file_name[:-4]\n",
        "\n",
        "def byte_extraction(bitstring):\n",
        "  byte_array = []\n",
        "  for i in range(8):\n",
        "    l_idx = i*8\n",
        "    r_idx = l_idx + 8\n",
        "    _byte = bitstring[l_idx:r_idx]\n",
        "    byte_array.append(_byte)\n",
        "  return byte_array\n",
        "\n",
        "def byte_decode(bitstring, preamble='1111111111111110'):\n",
        "  '''\n",
        "  Accepts a bit string containing 8 bytes from GNU Radio\n",
        "  Verifies preamble, and returns device ID and status bytes\n",
        "  '''\n",
        "  byte_array = []\n",
        "  for i in range(8):\n",
        "    l_idx = i*8\n",
        "    r_idx = l_idx + 8\n",
        "    _byte = bitstring[l_idx:r_idx]\n",
        "    byte_array.append(_byte)\n",
        "\n",
        "  preamble_bits = byte_array[0] + byte_array[1]\n",
        "  device_id = byte_array[2] + byte_array[3] + byte_array[4]\n",
        "  status = byte_array[5]\n",
        "  crc_byte_0 = byte_array[6]\n",
        "  crc_byte_1 = byte_array[7]\n",
        "  crc_pass = crc_check(device_id, status, crc_byte_0, crc_byte_1)\n",
        "  if preamble==preamble_bits and crc_pass:\n",
        "    return device_id, status\n",
        "  else:\n",
        "    return\n",
        "\n",
        "def create_event_timestamp(tz='US/Eastern'):\n",
        "  '''\n",
        "  Input pytz timezone as a string.\n",
        "  Returns timestamp of event.\n",
        "  '''\n",
        "  format = \"%Y-%m-%d %H:%M:%S\"\n",
        "  now = datetime.datetime.now(pytz.timezone(tz))\n",
        "  return now.strftime(format)\n",
        "\n",
        "def crc_check(_device_id, _status, _crc_byte_0, _crc_byte_1,\n",
        "              crc_alg='crc-16-buypass'):\n",
        "\n",
        "  crc16buypass_func = crcmod.predefined.mkCrcFun(crc_alg)\n",
        "  int_check = []\n",
        "  for i in range(0, len(_device_id), 8):\n",
        "    int_check.append(int(_device_id[i : i + 8], 2))\n",
        "  int_check.append(int(_status[:8], 2))\n",
        "\n",
        "  crc_check_0 = int(_crc_byte_0[:8], 2)\n",
        "  crc_check_1 = int(_crc_byte_1[:8], 2)\n",
        "\n",
        "  int_check = []\n",
        "\n",
        "  for i in range(0, len(_device_id), 8):\n",
        "    int_check.append(int(_device_id[i : i + 8], 2))\n",
        "  int_check.append(int(_status[:8], 2))\n",
        "  int_check\n",
        "\n",
        "  crc_check_0 = int(_crc_byte_0[:8], 2)\n",
        "  crc_check_1 = int(_crc_byte_1[:8], 2)\n",
        "\n",
        "  crc = crc16buypass_func(bytearray(int_check))\n",
        "  if crc & 0xFF == crc_check_1 and (crc & 0xFF00)>>8 == crc_check_0:\n",
        "    # print('CRC passed')\n",
        "    return True\n",
        "  else:\n",
        "    # TODO log failed CRC checks\n",
        "    return False"
      ],
      "metadata": {
        "id": "mOTGMs3YOe9d"
      },
      "execution_count": null,
      "outputs": []
    },
    {
      "cell_type": "code",
      "source": [
        "path = '/content/drive/MyDrive/honeywell_test/bitstreams/'\n",
        "files = os.listdir(path)"
      ],
      "metadata": {
        "id": "l7GqBRr7MZ6f"
      },
      "execution_count": null,
      "outputs": []
    },
    {
      "cell_type": "code",
      "source": [
        "bit_array, _name = read_bit_file(path, files[0])\n",
        "name_array = [_name]*len(bit_array)\n",
        "\n",
        "for _file in files[1:]:\n",
        "  temp_bit_array, temp_name = read_bit_file(path, _file)\n",
        "  bit_array += temp_bit_array\n",
        "  name_array += [temp_name]*len(temp_bit_array)"
      ],
      "metadata": {
        "id": "9iQyjEQKOktx"
      },
      "execution_count": null,
      "outputs": []
    },
    {
      "cell_type": "code",
      "source": [
        "df = pd.DataFrame(data={'bit_stream':bit_array, 'file_name':name_array})"
      ],
      "metadata": {
        "id": "P7NIO2s7O3Xb"
      },
      "execution_count": null,
      "outputs": []
    },
    {
      "cell_type": "code",
      "source": [
        "l_idx = 54\n",
        "r_idx = l_idx+8\n",
        "df.bit_stream.iloc[0][l_idx:r_idx]"
      ],
      "metadata": {
        "colab": {
          "base_uri": "https://localhost:8080/",
          "height": 35
        },
        "id": "hHSwFFQqTcIA",
        "outputId": "b932e495-3391-4fc0-9974-79979755f173"
      },
      "execution_count": null,
      "outputs": [
        {
          "output_type": "execute_result",
          "data": {
            "text/plain": [
              "'10001000'"
            ],
            "application/vnd.google.colaboratory.intrinsic+json": {
              "type": "string"
            }
          },
          "metadata": {},
          "execution_count": 10
        }
      ]
    },
    {
      "cell_type": "code",
      "source": [
        "extracted_byte_array = []\n",
        "\n",
        "for item in df.bit_stream:\n",
        "  extracted_byte_array.append(byte_extraction(item))\n",
        "\n",
        "byte_cols = ['byte_0', 'byte_1', 'byte_2', 'byte_3', 'byte_4',\n",
        "             'byte_5', 'byte_6', 'byte_7']\n",
        "byte_df = pd.DataFrame(np.vstack(extracted_byte_array), columns=byte_cols)\n",
        "\n",
        "df = df.join(byte_df)\n",
        "\n",
        "df['preamble'] = df.byte_0+df.byte_1\n",
        "df['device_id'] = df.byte_2 + df.byte_3 + df.byte_4\n",
        "df['status'] = df.byte_5\n",
        "df['crc'] = df.byte_6 + df.byte_7"
      ],
      "metadata": {
        "id": "ny6zAEEBgBCJ"
      },
      "execution_count": null,
      "outputs": []
    },
    {
      "cell_type": "code",
      "source": [
        "garage_df = df[(df.file_name=='garage_open_close')].copy()\n",
        "back_df = df[(df.file_name=='back_door_open_close')].copy()"
      ],
      "metadata": {
        "id": "6iVZOc219Gnr"
      },
      "execution_count": null,
      "outputs": []
    },
    {
      "cell_type": "code",
      "source": [
        "open_close_df = df[(df.file_name=='back_door_open_close') | (df.file_name=='garage_open_close') |\n",
        "                   (df.file_name=='back_window_left_open_close') |\n",
        "                   (df.file_name=='back_window_right_open_close') |\n",
        "                   (df.file_name=='front_door_open_close')].copy()"
      ],
      "metadata": {
        "id": "BkoC9M9pKe2a"
      },
      "execution_count": null,
      "outputs": []
    },
    {
      "cell_type": "code",
      "source": [
        "open_close_df.groupby('file_name').status.value_counts()"
      ],
      "metadata": {
        "colab": {
          "base_uri": "https://localhost:8080/"
        },
        "id": "fnotZYePMVXa",
        "outputId": "0981966f-de47-4a36-b2f2-dc9930b56f86"
      },
      "execution_count": null,
      "outputs": [
        {
          "output_type": "execute_result",
          "data": {
            "text/plain": [
              "file_name                     status  \n",
              "back_door_open_close          10100000    35\n",
              "                              10000000    24\n",
              "back_window_left_open_close   00100000    36\n",
              "                              00000000    25\n",
              "back_window_right_open_close  10000000    35\n",
              "                              00000000    25\n",
              "                              10001000     1\n",
              "front_door_open_close         10100000    35\n",
              "                              10000000    26\n",
              "garage_open_close             10100000    34\n",
              "                              10000000    24\n",
              "Name: status, dtype: int64"
            ]
          },
          "metadata": {},
          "execution_count": 14
        }
      ]
    },
    {
      "cell_type": "code",
      "source": [
        "df.status.value_counts()"
      ],
      "metadata": {
        "colab": {
          "base_uri": "https://localhost:8080/"
        },
        "id": "LdGeDv-oPQ4W",
        "outputId": "bea17d9d-2052-4f61-80d5-7ba003f0df65"
      },
      "execution_count": null,
      "outputs": [
        {
          "output_type": "execute_result",
          "data": {
            "text/plain": [
              "10100000    115\n",
              "10000000    109\n",
              "00000000     50\n",
              "00100000     36\n",
              "11100000     10\n",
              "10001000      1\n",
              "Name: status, dtype: int64"
            ]
          },
          "metadata": {},
          "execution_count": 15
        }
      ]
    },
    {
      "cell_type": "code",
      "source": [
        "open_close_df[open_close_df.file_name=='back_window_left_open_close'].status.value_counts()"
      ],
      "metadata": {
        "colab": {
          "base_uri": "https://localhost:8080/"
        },
        "id": "b5Hq5kkQ6QLB",
        "outputId": "90911358-0d78-4fe2-9017-a4295e9bced6"
      },
      "execution_count": null,
      "outputs": [
        {
          "output_type": "execute_result",
          "data": {
            "text/plain": [
              "00100000    36\n",
              "00000000    25\n",
              "Name: status, dtype: int64"
            ]
          },
          "metadata": {},
          "execution_count": 16
        }
      ]
    },
    {
      "cell_type": "markdown",
      "source": [
        "Example of reading df and producing message"
      ],
      "metadata": {
        "id": "FwWiQK0bdMGf"
      }
    },
    {
      "cell_type": "code",
      "source": [
        "yaml_path = '/content/drive/MyDrive/honeywell_test/device_details.yaml'\n",
        "with open(yaml_path, 'r') as stream:\n",
        "    byte_details = yaml.safe_load(stream)"
      ],
      "metadata": {
        "id": "cYIP2gu5L7Xe"
      },
      "execution_count": null,
      "outputs": []
    },
    {
      "cell_type": "code",
      "source": [
        "df_idx = np.random.randint(df.shape[0])\n",
        "device_message = f'Device: {byte_details[df.iloc[df_idx].device_id]}'\n",
        "status_message = f'Status: {byte_details[df.iloc[df_idx].status]}'\n",
        "\n",
        "print(device_message, '\\n'+status_message)"
      ],
      "metadata": {
        "colab": {
          "base_uri": "https://localhost:8080/"
        },
        "id": "tGkEN2AuQp7D",
        "outputId": "45a901b1-534e-459f-fa5e-25ea4bb217b8"
      },
      "execution_count": null,
      "outputs": [
        {
          "output_type": "stream",
          "name": "stdout",
          "text": [
            "Device: garage door \n",
            "Status: open\n"
          ]
        }
      ]
    },
    {
      "cell_type": "code",
      "source": [
        "gnu_bits = df.bit_stream[300]\n",
        "\n",
        "if len(gnu_bits)==64:\n",
        "  device_id, status = byte_decode(gnu_bits)\n",
        "\n",
        "  device_message = f'Device: {byte_details[device_id]}'\n",
        "  status_message = f'Status: {byte_details[status]}'\n",
        "\n",
        "  print(create_event_timestamp())\n",
        "  print(device_message, '\\n'+status_message)"
      ],
      "metadata": {
        "colab": {
          "base_uri": "https://localhost:8080/"
        },
        "id": "JRPW6HiuwQbo",
        "outputId": "62754d67-5bf2-42ef-e376-d3645bdb0881"
      },
      "execution_count": null,
      "outputs": [
        {
          "output_type": "stream",
          "name": "stdout",
          "text": [
            "2023-11-24 16:44:53\n",
            "Device: back window \n",
            "Status: right or left side closed\n"
          ]
        }
      ]
    },
    {
      "cell_type": "code",
      "source": [],
      "metadata": {
        "id": "FM5ucwu0Onh2"
      },
      "execution_count": null,
      "outputs": []
    }
  ]
}